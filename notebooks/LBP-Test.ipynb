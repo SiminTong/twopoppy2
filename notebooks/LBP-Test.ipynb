{
 "cells": [
  {
   "cell_type": "markdown",
   "metadata": {},
   "source": [
    "# Lynden-Bell & Pringle Test"
   ]
  },
  {
   "cell_type": "code",
   "execution_count": null,
   "metadata": {},
   "outputs": [],
   "source": [
    "import twopoppy2\n",
    "import numpy as np\n",
    "import matplotlib.pyplot as plt\n",
    "from twopoppy2.constants import year, au, k_b, G, m_p, year, R_sun\n",
    "from twopoppy2.utils import lbp_solution\n",
    "\n",
    "%matplotlib inline"
   ]
  },
  {
   "cell_type": "code",
   "execution_count": null,
   "metadata": {},
   "outputs": [],
   "source": [
    "m = twopoppy2.Twopoppy(rmax=2000 * au)\n",
    "\n",
    "sig0  = 15.766\n",
    "T0    = 36.5\n",
    "q     = 0.5       # play with this temperature profile to test different gamma values\n",
    "r_c   = 30 * au\n",
    "alpha = 1e-2\n",
    "d2g   = 1e-2"
   ]
  },
  {
   "cell_type": "code",
   "execution_count": null,
   "metadata": {},
   "outputs": [],
   "source": [
    "gamma = 1.5 - q\n",
    "m.set_all_alpha(alpha)\n",
    "m.T_gas = T0 * (m.r / r_c)**-q\n",
    "m.sigma_g = sig0 * (m.r / r_c)**-gamma * np.exp(-(m.r/r_c)**(2-gamma))\n",
    "m.sigma_d = d2g * m.sigma_g\n",
    "M_disk = (np.pi * np.diff(m.ri**2) * m.sigma_g).sum()"
   ]
  },
  {
   "cell_type": "code",
   "execution_count": null,
   "metadata": {},
   "outputs": [],
   "source": [
    "m.initialize()"
   ]
  },
  {
   "cell_type": "code",
   "execution_count": null,
   "metadata": {},
   "outputs": [],
   "source": [
    "m.run()"
   ]
  },
  {
   "cell_type": "code",
   "execution_count": null,
   "metadata": {},
   "outputs": [],
   "source": [
    "cs1 = m.cs[0]\n",
    "om1 = m.omega[0]\n",
    "nu1 = m.gas_viscosity[0]\n",
    "siga_0, _ = lbp_solution(m.r, gamma, nu1, m.M_star, M_disk, r_c)\n",
    "siga_1, _ = lbp_solution(m.r, gamma, nu1, m.M_star, M_disk, r_c, time=m.time)"
   ]
  },
  {
   "cell_type": "code",
   "execution_count": null,
   "metadata": {},
   "outputs": [],
   "source": [
    "f, ax = plt.subplots()\n",
    "ax.loglog(m.r / au, siga_0, 'k', label='analytic solution')\n",
    "ax.loglog(m.r / au, siga_1, 'k')\n",
    "ax.loglog(m.r / au, m.data['sigma_g'][0], '--', label='code @ {:0.3g} yr'.format(m.data['time'][0][0] / year))\n",
    "ax.loglog(m.r / au, m.data['sigma_g'][-1], '--', label='code @ {:0.3g} yr'.format(m.data['time'][-1][0] / year))\n",
    "ax.set_ylim(1e-4, 1e5)\n",
    "ax.set_xlabel('radius [au]')\n",
    "ax.set_ylabel(r'$\\Sigma_\\mathrm{g}$ [g cm$^{-2}$]')\n",
    "ax.set_title(f'$\\gamma = {gamma:.2g}$')\n",
    "ax.legend();"
   ]
  }
 ],
 "metadata": {
  "kernelspec": {
   "display_name": "Python 3",
   "language": "python",
   "name": "python3"
  },
  "language_info": {
   "codemirror_mode": {
    "name": "ipython",
    "version": 3
   },
   "file_extension": ".py",
   "mimetype": "text/x-python",
   "name": "python",
   "nbconvert_exporter": "python",
   "pygments_lexer": "ipython3",
   "version": "3.7.4"
  }
 },
 "nbformat": 4,
 "nbformat_minor": 4
}

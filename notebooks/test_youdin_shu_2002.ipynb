{
 "cells": [
  {
   "cell_type": "markdown",
   "metadata": {},
   "source": [
    "# Youdin & Shu 2002 Test"
   ]
  },
  {
   "cell_type": "markdown",
   "metadata": {},
   "source": [
    "We test the advection algorithm by running a fixed particle size drift in a power-law gas surface density / temperature disk. We see how the explicit advection has very little numerical diffusion, while the implicit donor cell scheme is quite diffusive. This is not to say that it cannot be used for `twopoppy2`, because we anyway have real diffusion due to turbulent mixing which is usually stronger."
   ]
  },
  {
   "cell_type": "code",
   "execution_count": null,
   "metadata": {},
   "outputs": [],
   "source": [
    "import matplotlib.pyplot as plt\n",
    "import numpy as np\n",
    "import twopoppy2\n",
    "%matplotlib inline\n",
    "\n",
    "au    = twopoppy2.constants.au\n",
    "year  = twopoppy2.constants.year"
   ]
  },
  {
   "cell_type": "markdown",
   "metadata": {},
   "source": [
    "Set up a grid that we use for all simulations"
   ]
  },
  {
   "cell_type": "code",
   "execution_count": null,
   "metadata": {},
   "outputs": [],
   "source": [
    "ri   = np.logspace(-1, 3, 500) * au\n",
    "grid = twopoppy2.Grid(ri)"
   ]
  },
  {
   "cell_type": "markdown",
   "metadata": {},
   "source": [
    "Here, we set up a model that we force to behave like a single particle size model. This is done to test the advection algorithm. We broadly follow the setup of Youdin & Shu 2002, Figure 5."
   ]
  },
  {
   "cell_type": "code",
   "execution_count": null,
   "metadata": {},
   "outputs": [],
   "source": [
    "def testmodel():\n",
    "\n",
    "    m    = twopoppy2.Twopoppy(grid=grid)\n",
    "\n",
    "    d2g = 0.01\n",
    "\n",
    "    m.sigma_g = 1700 * (m.r / au)**-1.5\n",
    "    m.sigma_g[m.r>200 * au] = 1e-100\n",
    "    m.sigma_d = d2g * m.sigma_g\n",
    "    m.T_gas   = m.T_star * 0.05**0.25 * (m.r / m.R_star)**-0.5\n",
    "\n",
    "    m.initialize()\n",
    "\n",
    "    m.stokesregime = 0\n",
    "    m.rho_s = 3.0\n",
    "    \n",
    "    # set large grain size to 1 mm\n",
    "    \n",
    "    m.a_1 = 0.1\n",
    "\n",
    "    # set all mass in largest grains\n",
    "    m.f_mf = 1.0\n",
    "    m.f_md = 1.0\n",
    "    \n",
    "    # we turn off alpha\n",
    "    \n",
    "    m.set_all_alpha(1e-100)\n",
    "    m.update_diffusivity()\n",
    "    m.update_diffusivity_i()\n",
    "    \n",
    "    # we let the gas evolve for 1 year to smooth off any overly sharp edges\n",
    "    \n",
    "    m.evolve_gas(year)\n",
    "    \n",
    "    # calculate the velocities just once as they will be kept constant\n",
    "    \n",
    "    m.update_v_bar()\n",
    "    m.update_v_bar_i()\n",
    "    \n",
    "    return m"
   ]
  },
  {
   "cell_type": "markdown",
   "metadata": {},
   "source": [
    "### Explicit / Implicit"
   ]
  },
  {
   "cell_type": "code",
   "execution_count": null,
   "metadata": {},
   "outputs": [],
   "source": [
    "# iterate over the snapshots\n",
    "\n",
    "m_exp = testmodel()\n",
    "m_imp = testmodel()\n",
    "sig_d_ini = m_exp.sigma_d.copy()\n",
    "\n",
    "# set up figure\n",
    "\n",
    "f, axs = plt.subplots(1, 2, figsize=(12, 6))\n",
    "for ax in axs:\n",
    "    ax.set_xlim(.4, 3e2)\n",
    "    ax.set_ylim(1e-3, 1e3)\n",
    "    ax.set_xlabel('radius [au]')\n",
    "    ax.set_ylabel(r'$\\Sigma_\\mathrm{dust}$ [g / cm$^2$]')\n",
    "    \n",
    "# set snapshot times\n",
    "\n",
    "times = np.array([0, 1e4, 3e4, 7e4, ]) * year\n",
    "start_index = np.where(m_exp.time >= times)[0][0]\n",
    "\n",
    "for i_snap in range(start_index, len(times)):\n",
    "    \n",
    "    t_next = times[i_snap]\n",
    "    \n",
    "    # implicit model\n",
    "    \n",
    "    while m_imp.time < t_next:\n",
    "        dt = min(max(m_imp.time/200, year), t_next - m_imp.time)\n",
    "        \n",
    "        m_imp.sigma_d = m_imp._dust_step_impl(dt)[0]\n",
    "        m_imp.time += dt\n",
    "        \n",
    "    # explicit model\n",
    "        \n",
    "    while m_exp.time < t_next:\n",
    "        sig_d, dt = m_exp._dust_step_implexpl(t_max=t_next)\n",
    "        m_exp.time += dt\n",
    "        m_exp.sigma_d = sig_d\n",
    "    \n",
    "    for m, ax in zip([m_imp, m_exp], axs):\n",
    "        ax.loglog(m.r / au, m.sigma_d, f'C{i_snap + 1}', label=f't = {m.time / year:.3g} yr')\n",
    "    \n",
    "    print(f'\\rRunning ... {i_snap/(len(times) - 1) * 100:.1f}%', end='', flush=True)\n",
    "\n",
    "print('\\r------ DONE! ------')\n",
    "\n",
    "# get the velocity parameters\n",
    "# the velocity in the analytical solution is defined as\n",
    "# A * r**d, where A is negative for inward drift.\n",
    "\n",
    "i_ref = 3\n",
    "d = m._grid.dlnxdlnr(-m.v_bar)[i_ref]\n",
    "A = m.v_bar[i_ref] / m.r[i_ref]**d\n",
    "\n",
    "# overplot the analytical solution\n",
    "\n",
    "for i, t in enumerate(times):\n",
    "    for ax in axs:\n",
    "        ax.loglog(m_exp.r / au, twopoppy2.utils.solution_youdinshu2002(m_exp.r, sig_d_ini, t, A, d), c=f'C{i + 1}', ls='--')\n",
    "\n",
    "# set legend and title\n",
    "        \n",
    "axs[0].plot([0], [0], 'k-', label='numerical')\n",
    "axs[0].plot([0], [0], 'k--', label='analytical')\n",
    "axs[0].legend(fontsize='small')\n",
    "\n",
    "axs[0].set_title('implicit')\n",
    "axs[1].set_title('explicit');"
   ]
  }
 ],
 "metadata": {
  "kernelspec": {
   "display_name": "Python 3",
   "language": "python",
   "name": "python3"
  },
  "language_info": {
   "codemirror_mode": {
    "name": "ipython",
    "version": 3
   },
   "file_extension": ".py",
   "mimetype": "text/x-python",
   "name": "python",
   "nbconvert_exporter": "python",
   "pygments_lexer": "ipython3",
   "version": "3.7.4"
  }
 },
 "nbformat": 4,
 "nbformat_minor": 4
}

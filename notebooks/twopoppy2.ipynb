{
 "cells": [
  {
   "cell_type": "markdown",
   "metadata": {},
   "source": [
    "## Run a twopoppy model"
   ]
  },
  {
   "cell_type": "code",
   "execution_count": null,
   "metadata": {},
   "outputs": [],
   "source": [
    "%matplotlib notebook\n",
    "import matplotlib.pyplot as plt\n",
    "import numpy as np\n",
    "import twopoppy2 as tp2\n",
    "\n",
    "au    = tp2.constants.au\n",
    "year  = tp2.constants.year\n",
    "M_sun = tp2.constants.M_sun"
   ]
  },
  {
   "cell_type": "code",
   "execution_count": null,
   "metadata": {},
   "outputs": [],
   "source": [
    "ri   = np.logspace(-1, 3, 500) * au\n",
    "grid = tp2.Grid(ri)\n",
    "m    = tp2.Twopoppy(grid=grid)\n",
    "\n",
    "rc   = 60 * au\n",
    "m.sigma_g = (m.r / rc)**-1 * np.exp(- m.r/rc)\n",
    "m.sigma_g *= 0.05 * m.M_star / (np.pi * np.diff(m._grid.ri**2) * m.sigma_g).sum()\n",
    "m.sigma_d = 0.01 * m.sigma_g\n",
    "\n",
    "m.T_gas = 200 * (m.r / au)**-0.5\n",
    "m.snapshots = np.hstack((0, np.logspace(np.log10(5e4), np.log10(3e6), 100) * year))\n",
    "\n",
    "m.initialize()"
   ]
  },
  {
   "cell_type": "code",
   "execution_count": null,
   "metadata": {
    "scrolled": true
   },
   "outputs": [],
   "source": [
    "m.run()"
   ]
  },
  {
   "cell_type": "code",
   "execution_count": null,
   "metadata": {},
   "outputs": [],
   "source": [
    "w = tp2.utils.Widget(m)"
   ]
  }
 ],
 "metadata": {
  "kernelspec": {
   "display_name": "Python 3",
   "language": "python",
   "name": "python3"
  },
  "language_info": {
   "codemirror_mode": {
    "name": "ipython",
    "version": 3
   },
   "file_extension": ".py",
   "mimetype": "text/x-python",
   "name": "python",
   "nbconvert_exporter": "python",
   "pygments_lexer": "ipython3",
   "version": "3.7.4"
  }
 },
 "nbformat": 4,
 "nbformat_minor": 4
}

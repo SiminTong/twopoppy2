{
 "cells": [
  {
   "cell_type": "code",
   "execution_count": null,
   "metadata": {},
   "outputs": [],
   "source": [
    "import matplotlib.pyplot as plt\n",
    "import numpy as np\n",
    "import twopoppy2\n",
    "%matplotlib inline\n",
    "\n",
    "au    = twopoppy2.au\n",
    "year  = twopoppy2.year\n",
    "M_sun = twopoppy2.M_sun\n",
    "R_sun = twopoppy2.R_sun"
   ]
  },
  {
   "cell_type": "code",
   "execution_count": null,
   "metadata": {},
   "outputs": [],
   "source": [
    "ri   = np.logspace(-1, 3, 300) * au\n",
    "grid = twopoppy2.Grid(ri)\n",
    "m    = twopoppy2.Twopoppy(grid=grid)\n",
    "\n",
    "m.M_star = M_sun\n",
    "m.T_star = 4000\n",
    "m.R_star = 2.5 * R_sun\n",
    "rc = 10 * au\n",
    "d2g = 0.01"
   ]
  },
  {
   "cell_type": "code",
   "execution_count": null,
   "metadata": {},
   "outputs": [],
   "source": [
    "m.sigma_g = 200 * (m.r / rc)**-1 * np.exp(-m.r / rc)\n",
    "m.sigma_d = d2g * m.sigma_g\n",
    "m.T_gas   = m.T_star * 0.05**0.25 * (m.r / m.R_star)**-0.5"
   ]
  },
  {
   "cell_type": "code",
   "execution_count": null,
   "metadata": {},
   "outputs": [],
   "source": [
    "f, ax = plt.subplots()\n",
    "ax.loglog(m.r / au, m.sigma_g)\n",
    "for i in range(1000):\n",
    "    m.evolve_gas(1000 * year)\n",
    "ax.loglog(m.r / au, m.sigma_g)\n",
    "ax.set_ylim(1e-4, 1e7);"
   ]
  }
 ],
 "metadata": {
  "kernelspec": {
   "display_name": "Python 3",
   "language": "python",
   "name": "python3"
  },
  "language_info": {
   "codemirror_mode": {
    "name": "ipython",
    "version": 3
   },
   "file_extension": ".py",
   "mimetype": "text/x-python",
   "name": "python",
   "nbconvert_exporter": "python",
   "pygments_lexer": "ipython3",
   "version": "3.7.4"
  }
 },
 "nbformat": 4,
 "nbformat_minor": 4
}
